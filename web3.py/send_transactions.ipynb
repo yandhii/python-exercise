{
 "cells": [
  {
   "cell_type": "code",
   "execution_count": 30,
   "metadata": {
    "collapsed": true,
    "ExecuteTime": {
     "start_time": "2023-06-02T20:50:42.124235Z",
     "end_time": "2023-06-02T20:50:42.128185Z"
    }
   },
   "outputs": [],
   "source": [
    "from web3 import Web3"
   ]
  },
  {
   "cell_type": "code",
   "execution_count": 31,
   "outputs": [
    {
     "data": {
      "text/plain": "True"
     },
     "execution_count": 31,
     "metadata": {},
     "output_type": "execute_result"
    }
   ],
   "source": [
    "ganache_url = \"http://127.0.0.1:7545\"\n",
    "web3 = Web3(Web3.HTTPProvider(ganache_url))\n",
    "web3.is_connected()"
   ],
   "metadata": {
    "collapsed": false,
    "ExecuteTime": {
     "start_time": "2023-06-02T20:50:42.129529Z",
     "end_time": "2023-06-02T20:50:42.174808Z"
    }
   }
  },
  {
   "cell_type": "code",
   "execution_count": 32,
   "outputs": [
    {
     "data": {
      "text/plain": "4"
     },
     "execution_count": 32,
     "metadata": {},
     "output_type": "execute_result"
    }
   ],
   "source": [
    "web3.eth.block_number"
   ],
   "metadata": {
    "collapsed": false,
    "ExecuteTime": {
     "start_time": "2023-06-02T20:50:42.176807Z",
     "end_time": "2023-06-02T20:50:42.224348Z"
    }
   }
  },
  {
   "cell_type": "code",
   "execution_count": 33,
   "outputs": [],
   "source": [
    "account1 = '0x6d969aaa1ebA1cc551DDeF11CE0c7E3a91466AbC'\n",
    "account2 = '0x9eF8Fd0c31A592aF457b69a4223CDb4a701dDDca'"
   ],
   "metadata": {
    "collapsed": false,
    "ExecuteTime": {
     "start_time": "2023-06-02T20:50:42.208105Z",
     "end_time": "2023-06-02T20:50:42.224348Z"
    }
   }
  },
  {
   "cell_type": "code",
   "execution_count": 34,
   "outputs": [],
   "source": [
    "private_key = \"c18142e1b6ea0777e4623cc4a3a13e711b61525ba7fad3128f3a496f621354de\""
   ],
   "metadata": {
    "collapsed": false,
    "ExecuteTime": {
     "start_time": "2023-06-02T20:50:42.223364Z",
     "end_time": "2023-06-02T20:50:42.236890Z"
    }
   }
  },
  {
   "cell_type": "code",
   "execution_count": 35,
   "outputs": [
    {
     "data": {
      "text/plain": "'0x57e3cd922c4e1119de04b9302c2259cfed88e6a0b30e6f38a52c08a3a581f45c'"
     },
     "execution_count": 35,
     "metadata": {},
     "output_type": "execute_result"
    }
   ],
   "source": [
    "# get the nonce\n",
    "nonce = web3.eth.get_transaction_count(account1)\n",
    "# send the transaction\n",
    "tx = {\n",
    "    # nonce prevent send twice tx\n",
    "    'nonce':nonce,\n",
    "    'to': account2,\n",
    "    'value': web3.to_wei(number=1, unit='ether'),\n",
    "    'gas': 2000000,\n",
    "    'gasPrice':web3.to_wei('50', 'gwei')\n",
    "}\n",
    "# sign a transaction\n",
    "signed_tx = web3.eth.account.sign_transaction(tx, private_key)\n",
    "\n",
    "tx_hash = web3.eth.send_raw_transaction(signed_tx.rawTransaction)\n",
    "\n",
    "web3.to_hex(tx_hash)\n",
    "# send transaction\n",
    "# get transaction hash"
   ],
   "metadata": {
    "collapsed": false,
    "ExecuteTime": {
     "start_time": "2023-06-02T20:50:42.236890Z",
     "end_time": "2023-06-02T20:50:42.421384Z"
    }
   }
  }
 ],
 "metadata": {
  "kernelspec": {
   "display_name": "Python 3",
   "language": "python",
   "name": "python3"
  },
  "language_info": {
   "codemirror_mode": {
    "name": "ipython",
    "version": 2
   },
   "file_extension": ".py",
   "mimetype": "text/x-python",
   "name": "python",
   "nbconvert_exporter": "python",
   "pygments_lexer": "ipython2",
   "version": "2.7.6"
  }
 },
 "nbformat": 4,
 "nbformat_minor": 0
}
