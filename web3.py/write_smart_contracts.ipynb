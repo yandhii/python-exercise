{
 "cells": [
  {
   "cell_type": "code",
   "execution_count": 192,
   "metadata": {
    "collapsed": true,
    "ExecuteTime": {
     "start_time": "2023-06-03T15:09:29.411031Z",
     "end_time": "2023-06-03T15:09:29.424089Z"
    }
   },
   "outputs": [],
   "source": [
    "import json\n",
    "\n",
    "import web3\n",
    "from web3 import Web3"
   ]
  },
  {
   "cell_type": "code",
   "execution_count": 193,
   "outputs": [
    {
     "data": {
      "text/plain": "True"
     },
     "execution_count": 193,
     "metadata": {},
     "output_type": "execute_result"
    }
   ],
   "source": [
    "ganache_url = \"http://127.0.0.1:7545\"\n",
    "web3 = Web3(Web3.HTTPProvider(ganache_url))\n",
    "web3.is_connected()"
   ],
   "metadata": {
    "collapsed": false,
    "ExecuteTime": {
     "start_time": "2023-06-03T15:09:29.424089Z",
     "end_time": "2023-06-03T15:09:29.454122Z"
    }
   }
  },
  {
   "cell_type": "markdown",
   "source": [
    "# Set a default account to sign transactions - this account is unlocked with Ganache"
   ],
   "metadata": {
    "collapsed": false
   }
  },
  {
   "cell_type": "code",
   "execution_count": 194,
   "outputs": [
    {
     "data": {
      "text/plain": "'0x159c77b2b73471865D0d4799eD7202BdF6dDcfae'"
     },
     "execution_count": 194,
     "metadata": {},
     "output_type": "execute_result"
    }
   ],
   "source": [
    "# Set a default account to sign transactions - this account is unlocked with Ganache\n",
    "web3.eth.default_account = web3.eth.accounts[0]\n",
    "web3.eth.default_account"
   ],
   "metadata": {
    "collapsed": false,
    "ExecuteTime": {
     "start_time": "2023-06-03T15:09:29.454122Z",
     "end_time": "2023-06-03T15:09:29.493979Z"
    }
   }
  },
  {
   "cell_type": "markdown",
   "source": [
    "# Convert to checksum address: prevent manually error"
   ],
   "metadata": {
    "collapsed": false
   }
  },
  {
   "cell_type": "code",
   "execution_count": 195,
   "outputs": [],
   "source": [
    "# convert to checksum address\n",
    "address = web3.to_checksum_address(\"0xd9aeef35819b83ef5308eA29eF7210151B135dEE\")\n",
    "with open(r\"D:\\实习\\项目\\PolySwap\\truffle\\build\\contracts\\PolyToken.json\") as f:\n",
    "    abi = json.load(f)['abi']"
   ],
   "metadata": {
    "collapsed": false,
    "ExecuteTime": {
     "start_time": "2023-06-03T15:09:29.474117Z",
     "end_time": "2023-06-03T15:09:29.494485Z"
    }
   }
  },
  {
   "cell_type": "code",
   "execution_count": 196,
   "outputs": [],
   "source": [
    "contract = web3.eth.contract(address=address, abi=abi)"
   ],
   "metadata": {
    "collapsed": false,
    "ExecuteTime": {
     "start_time": "2023-06-03T15:09:29.487439Z",
     "end_time": "2023-06-03T15:09:29.496100Z"
    }
   }
  },
  {
   "cell_type": "code",
   "execution_count": 197,
   "outputs": [
    {
     "data": {
      "text/plain": "'PolyToken'"
     },
     "execution_count": 197,
     "metadata": {},
     "output_type": "execute_result"
    }
   ],
   "source": [
    "contract.functions.name().call()"
   ],
   "metadata": {
    "collapsed": false,
    "ExecuteTime": {
     "start_time": "2023-06-03T15:09:29.496100Z",
     "end_time": "2023-06-03T15:09:29.644140Z"
    }
   }
  },
  {
   "cell_type": "markdown",
   "source": [
    "# Call ERC-20 token transfer function\n",
    "## use transact() to write"
   ],
   "metadata": {
    "collapsed": false
   }
  },
  {
   "cell_type": "code",
   "execution_count": 198,
   "outputs": [],
   "source": [
    "from_address = \"0x159c77b2b73471865D0d4799eD7202BdF6dDcfae\"\n",
    "to_address = \"0x8A49d5B58E917671100921765a842711B5c904d6\"\n",
    "amount = 12345"
   ],
   "metadata": {
    "collapsed": false,
    "ExecuteTime": {
     "start_time": "2023-06-03T15:09:29.644140Z",
     "end_time": "2023-06-03T15:09:29.654142Z"
    }
   }
  },
  {
   "cell_type": "code",
   "execution_count": 199,
   "outputs": [
    {
     "name": "stdout",
     "output_type": "stream",
     "text": [
      "Before transfer:\n",
      "PolyToken balance of from address 0x159c77b2b73471865D0d4799eD7202BdF6dDcfae: 50000000000000000000\n",
      "PolyToken balance of to address 0x8A49d5B58E917671100921765a842711B5c904d6: 0\n",
      "from address 0x159c77b2b73471865D0d4799eD7202BdF6dDcfae Call transfer function with 10000000000000000000\n",
      "After transfer:\n",
      "PolyToken balance of from address 0x159c77b2b73471865D0d4799eD7202BdF6dDcfae: 40000000000000000000\n",
      "PolyToken balance of to address 0x8A49d5B58E917671100921765a842711B5c904d6: 10000000000000000000\n"
     ]
    }
   ],
   "source": [
    "print(f\"Before transfer:\")\n",
    "print(f\"PolyToken balance of from address {from_address}: {contract.functions.balanceOf(from_address).call()}\")\n",
    "print(f\"PolyToken balance of to address {to_address}: {contract.functions.balanceOf(to_address).call()}\")\n",
    "print(f\"from address {from_address} Call transfer function with {amount}\")\n",
    "tx_hash = contract.functions.transfer(to_address,amount).transact()\n",
    "# Wait for transaction to be mined\n",
    "web3.eth.wait_for_transaction_receipt(tx_hash)\n",
    "print(f\"After transfer:\")\n",
    "print(f\"PolyToken balance of from address {from_address}: {contract.functions.balanceOf(from_address).call()}\")\n",
    "print(f\"PolyToken balance of to address {to_address}: {contract.functions.balanceOf(to_address).call()}\")"
   ],
   "metadata": {
    "collapsed": false,
    "ExecuteTime": {
     "start_time": "2023-06-03T15:09:29.654142Z",
     "end_time": "2023-06-03T15:09:30.646627Z"
    }
   }
  }
 ],
 "metadata": {
  "kernelspec": {
   "display_name": "Python 3",
   "language": "python",
   "name": "python3"
  },
  "language_info": {
   "codemirror_mode": {
    "name": "ipython",
    "version": 2
   },
   "file_extension": ".py",
   "mimetype": "text/x-python",
   "name": "python",
   "nbconvert_exporter": "python",
   "pygments_lexer": "ipython2",
   "version": "2.7.6"
  }
 },
 "nbformat": 4,
 "nbformat_minor": 0
}
